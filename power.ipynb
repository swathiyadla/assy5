{
 "cells": [
  {
   "cell_type": "code",
   "execution_count": 1,
   "id": "addf3b23",
   "metadata": {},
   "outputs": [
    {
     "name": "stdout",
     "output_type": "stream",
     "text": [
      "4\n"
     ]
    }
   ],
   "source": [
    "class power:\n",
    "    def __init__(self,a,n):\n",
    "        self.number = a\n",
    "        self.exponent = n\n",
    "        res = a**n\n",
    "        print(res)\n",
    "x = power(2,2)"
   ]
  },
  {
   "cell_type": "code",
   "execution_count": null,
   "id": "b353e379",
   "metadata": {},
   "outputs": [],
   "source": []
  }
 ],
 "metadata": {
  "kernelspec": {
   "display_name": "Python 3 (ipykernel)",
   "language": "python",
   "name": "python3"
  },
  "language_info": {
   "codemirror_mode": {
    "name": "ipython",
    "version": 3
   },
   "file_extension": ".py",
   "mimetype": "text/x-python",
   "name": "python",
   "nbconvert_exporter": "python",
   "pygments_lexer": "ipython3",
   "version": "3.10.0"
  }
 },
 "nbformat": 4,
 "nbformat_minor": 5
}
